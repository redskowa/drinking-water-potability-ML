{
 "cells": [
  {
   "cell_type": "markdown",
   "id": "2621d5de",
   "metadata": {},
   "source": [
    "# Predicting Water Potability with ML\n",
    "\n",
    "This notebook will use various Python-based machine learning and data science libraries in an attempt to build a machine learning model. The goal of the model is to be capable of predicting whether or not a water sample is safe for human consumption based on a number of attributes of the water's source.\n",
    "\n",
    "## 1. Problem Definition\n",
    "\n",
    "> Given a set of attributes of a water source obtained by a sample, predict if that water source provides safe, potable water.\n",
    "\n",
    "## 2. Data\n",
    "\n",
    "The data for this project was obtained on Kaggle: https://www.kaggle.com/adityakadiwal/water-potability\n",
    "\n",
    "m: parts per million\n",
    "μg/L: microgram per litre\n",
    "mg/L: milligram per litre\n",
    "\n",
    "Column description:\n",
    "\n",
    "1. ph: pH of 1. water (0 to 14).\n",
    "2. Hardness: Capacity of water to precipitate soap in mg/L.\n",
    "3. Solids: Total dissolved solids in ppm.\n",
    "4. Chloramines: Amount of Chloramines in ppm.\n",
    "5. Sulfate: Amount of Sulfates dissolved in mg/L.\n",
    "6. Conductivity: Electrical conductivity of water in μS/cm.\n",
    "7. Organic_carbon: Amount of organic carbon in ppm.\n",
    "8. Trihalomethanes: Amount of Trihalomethanes in μg/L.\n",
    "9. Turbidity: Measure of light emiting property of water in NTU.\n",
    "10. Potability: Indicates if water is safe for human consumption. Potable -1 and Not potable -0\n",
    "\n",
    "## 3. Evaluation\n",
    "\n",
    "> Attempt to acheive a model that predicts with an F1 Score of >80% the potability of a water source.\n",
    "F1-Score is a harmonic average (max value is the arithmetic mean) of the precision and recall score.\n",
    "\n",
    "## 4. Features\n",
    "\n",
    "**Water Potability Data Dictionary**\n",
    "The following are the features we'll use to predict our target variable, potability.\n",
    "\n",
    "The water_potability.csv file contains water quality metrics for 3276 different water bodies.\n",
    "\n",
    "1. pH value:\n",
    "PH is an important parameter in evaluating the acid–base balance of water. It is also the indicator of acidic or alkaline condition of water status. WHO has recommended maximum permissible limit of pH from 6.5 to 8.5. The current investigation ranges were 6.52–6.83 which are in the range of WHO standards.\n",
    "\n",
    "2. Hardness:\n",
    "Hardness is mainly caused by calcium and magnesium salts. These salts are dissolved from geologic deposits through which water travels. The length of time water is in contact with hardness producing material helps determine how much hardness there is in raw water. Hardness was originally defined as the capacity of water to precipitate soap caused by Calcium and Magnesium.\n",
    "\n",
    "3. Solids (Total dissolved solids - TDS):\n",
    "Water has the ability to dissolve a wide range of inorganic and some organic minerals or salts such as potassium, calcium, sodium, bicarbonates, chlorides, magnesium, sulfates etc. These minerals produced un-wanted taste and diluted color in appearance of water. This is the important parameter for the use of water. The water with high TDS value indicates that water is highly mineralized. Desirable limit for TDS is 500 mg/l and maximum limit is 1000 mg/l which prescribed for drinking purpose.\n",
    "\n",
    "4. Chloramines:\n",
    "Chlorine and chloramine are the major disinfectants used in public water systems. Chloramines are most commonly formed when ammonia is added to chlorine to treat drinking water. Chlorine levels up to 4 milligrams per liter (mg/L or 4 parts per million (ppm)) are considered safe in drinking water.\n",
    "\n",
    "5. Sulfate:\n",
    "Sulfates are naturally occurring substances that are found in minerals, soil, and rocks. They are present in ambient air, groundwater, plants, and food. The principal commercial use of sulfate is in the chemical industry. Sulfate concentration in seawater is about 2,700 milligrams per liter (mg/L). It ranges from 3 to 30 mg/L in most freshwater supplies, although much higher concentrations (1000 mg/L) are found in some geographic locations.\n",
    "\n",
    "6. Conductivity:\n",
    "Pure water is not a good conductor of electric current rather’s a good insulator. Increase in ions concentration enhances the electrical conductivity of water. Generally, the amount of dissolved solids in water determines the electrical conductivity. Electrical conductivity (EC) actually measures the ionic process of a solution that enables it to transmit current. According to WHO standards, EC value should not exceeded 400 μS/cm.\n",
    "\n",
    "7. Organic_carbon:\n",
    "Total Organic Carbon (TOC) in source waters comes from decaying natural organic matter (NOM) as well as synthetic sources. TOC is a measure of the total amount of carbon in organic compounds in pure water. According to US EPA < 2 mg/L as TOC in treated / drinking water, and < 4 mg/Lit in source water which is use for treatment.\n",
    "\n",
    "8. Trihalomethanes:\n",
    "THMs are chemicals which may be found in water treated with chlorine. The concentration of THMs in drinking water varies according to the level of organic material in the water, the amount of chlorine required to treat the water, and the temperature of the water that is being treated. THM levels up to 80 ppm is considered safe in drinking water.\n",
    "\n",
    "9. Turbidity:\n",
    "The turbidity of water depends on the quantity of solid matter present in the suspended state. It is a measure of light emitting properties of water and the test is used to indicate the quality of waste discharge with respect to colloidal matter. The mean turbidity value obtained for Wondo Genet Campus (0.98 NTU) is lower than the WHO recommended value of 5.00 NTU.\n",
    "\n",
    "10. Potability:\n",
    "Indicates if water is safe for human consumption where 1 means Potable and 0 means Not potable."
   ]
  },
  {
   "cell_type": "markdown",
   "id": "977dcfd3",
   "metadata": {},
   "source": [
    "## Prepare the tools\n",
    "Using pandas, Matplotlib, and Numpy for data analysis and manipulation."
   ]
  },
  {
   "cell_type": "code",
   "execution_count": 3,
   "id": "e1c98fae",
   "metadata": {},
   "outputs": [],
   "source": [
    "# Import all of the tools needed\n",
    "\n",
    "# Regular EDA (exploration data analysis) and plotting libraries\n",
    "import numpy as np\n",
    "import pandas as pd\n",
    "import matplotlib.pyplot as plt\n",
    "%matplotlib inline\n",
    "import seaborn as sns\n",
    "\n",
    "# Models from Scikit-Learn\n",
    "from sklearn.linear_model import LogisticRegression\n",
    "from sklearn.neighbors import KNeighborsClassifier\n",
    "from sklearn.ensemble import RandomForestClassifier\n",
    "\n",
    "from catboost import CatBoostClassifier\n",
    "\n",
    "# Model Evaluations\n",
    "from sklearn.model_selection import train_test_split, cross_val_score\n",
    "from sklearn.model_selection import RandomizedSearchCV, GridSearchCV\n",
    "from sklearn.metrics import confusion_matrix, classification_report\n",
    "from sklearn.metrics import precision_score, recall_score, f1_score\n",
    "from sklearn.metrics import plot_roc_curve\n",
    "\n",
    "import warnings\n",
    "warnings.simplefilter(\"ignore\")"
   ]
  },
  {
   "cell_type": "markdown",
   "id": "93d02bfe",
   "metadata": {},
   "source": [
    "## Load Data"
   ]
  },
  {
   "cell_type": "code",
   "execution_count": 4,
   "id": "dc5d51fd",
   "metadata": {},
   "outputs": [
    {
     "data": {
      "text/plain": [
       "(3276, 10)"
      ]
     },
     "execution_count": 4,
     "metadata": {},
     "output_type": "execute_result"
    }
   ],
   "source": [
    "# use pandas to load data into a DataFrame\n",
    "df = pd.read_csv(\"water_potability.csv\")\n",
    "df.shape # (rows, columns)"
   ]
  },
  {
   "cell_type": "markdown",
   "id": "513b743b",
   "metadata": {},
   "source": [
    "### Exploratory Data Analysis (EDA)\n",
    "\n",
    "Learn more about the data set.\n",
    "\n",
    "What kind of data is in the set?\n",
    "\n",
    "Is there missing data to deal with?\n",
    "\n",
    "Are there any outliers?\n"
   ]
  },
  {
   "cell_type": "code",
   "execution_count": 5,
   "id": "2af57e00",
   "metadata": {},
   "outputs": [
    {
     "data": {
      "text/html": [
       "<div>\n",
       "<style scoped>\n",
       "    .dataframe tbody tr th:only-of-type {\n",
       "        vertical-align: middle;\n",
       "    }\n",
       "\n",
       "    .dataframe tbody tr th {\n",
       "        vertical-align: top;\n",
       "    }\n",
       "\n",
       "    .dataframe thead th {\n",
       "        text-align: right;\n",
       "    }\n",
       "</style>\n",
       "<table border=\"1\" class=\"dataframe\">\n",
       "  <thead>\n",
       "    <tr style=\"text-align: right;\">\n",
       "      <th></th>\n",
       "      <th>ph</th>\n",
       "      <th>Hardness</th>\n",
       "      <th>Solids</th>\n",
       "      <th>Chloramines</th>\n",
       "      <th>Sulfate</th>\n",
       "      <th>Conductivity</th>\n",
       "      <th>Organic_carbon</th>\n",
       "      <th>Trihalomethanes</th>\n",
       "      <th>Turbidity</th>\n",
       "      <th>Potability</th>\n",
       "    </tr>\n",
       "  </thead>\n",
       "  <tbody>\n",
       "    <tr>\n",
       "      <th>0</th>\n",
       "      <td>NaN</td>\n",
       "      <td>204.890455</td>\n",
       "      <td>20791.318981</td>\n",
       "      <td>7.300212</td>\n",
       "      <td>368.516441</td>\n",
       "      <td>564.308654</td>\n",
       "      <td>10.379783</td>\n",
       "      <td>86.990970</td>\n",
       "      <td>2.963135</td>\n",
       "      <td>0</td>\n",
       "    </tr>\n",
       "    <tr>\n",
       "      <th>1</th>\n",
       "      <td>3.716080</td>\n",
       "      <td>129.422921</td>\n",
       "      <td>18630.057858</td>\n",
       "      <td>6.635246</td>\n",
       "      <td>NaN</td>\n",
       "      <td>592.885359</td>\n",
       "      <td>15.180013</td>\n",
       "      <td>56.329076</td>\n",
       "      <td>4.500656</td>\n",
       "      <td>0</td>\n",
       "    </tr>\n",
       "    <tr>\n",
       "      <th>2</th>\n",
       "      <td>8.099124</td>\n",
       "      <td>224.236259</td>\n",
       "      <td>19909.541732</td>\n",
       "      <td>9.275884</td>\n",
       "      <td>NaN</td>\n",
       "      <td>418.606213</td>\n",
       "      <td>16.868637</td>\n",
       "      <td>66.420093</td>\n",
       "      <td>3.055934</td>\n",
       "      <td>0</td>\n",
       "    </tr>\n",
       "    <tr>\n",
       "      <th>3</th>\n",
       "      <td>8.316766</td>\n",
       "      <td>214.373394</td>\n",
       "      <td>22018.417441</td>\n",
       "      <td>8.059332</td>\n",
       "      <td>356.886136</td>\n",
       "      <td>363.266516</td>\n",
       "      <td>18.436524</td>\n",
       "      <td>100.341674</td>\n",
       "      <td>4.628771</td>\n",
       "      <td>0</td>\n",
       "    </tr>\n",
       "    <tr>\n",
       "      <th>4</th>\n",
       "      <td>9.092223</td>\n",
       "      <td>181.101509</td>\n",
       "      <td>17978.986339</td>\n",
       "      <td>6.546600</td>\n",
       "      <td>310.135738</td>\n",
       "      <td>398.410813</td>\n",
       "      <td>11.558279</td>\n",
       "      <td>31.997993</td>\n",
       "      <td>4.075075</td>\n",
       "      <td>0</td>\n",
       "    </tr>\n",
       "  </tbody>\n",
       "</table>\n",
       "</div>"
      ],
      "text/plain": [
       "         ph    Hardness        Solids  Chloramines     Sulfate  Conductivity  \\\n",
       "0       NaN  204.890455  20791.318981     7.300212  368.516441    564.308654   \n",
       "1  3.716080  129.422921  18630.057858     6.635246         NaN    592.885359   \n",
       "2  8.099124  224.236259  19909.541732     9.275884         NaN    418.606213   \n",
       "3  8.316766  214.373394  22018.417441     8.059332  356.886136    363.266516   \n",
       "4  9.092223  181.101509  17978.986339     6.546600  310.135738    398.410813   \n",
       "\n",
       "   Organic_carbon  Trihalomethanes  Turbidity  Potability  \n",
       "0       10.379783        86.990970   2.963135           0  \n",
       "1       15.180013        56.329076   4.500656           0  \n",
       "2       16.868637        66.420093   3.055934           0  \n",
       "3       18.436524       100.341674   4.628771           0  \n",
       "4       11.558279        31.997993   4.075075           0  "
      ]
     },
     "execution_count": 5,
     "metadata": {},
     "output_type": "execute_result"
    }
   ],
   "source": [
    "df.head()"
   ]
  },
  {
   "cell_type": "code",
   "execution_count": 6,
   "id": "7a6c1631",
   "metadata": {},
   "outputs": [
    {
     "data": {
      "text/html": [
       "<div>\n",
       "<style scoped>\n",
       "    .dataframe tbody tr th:only-of-type {\n",
       "        vertical-align: middle;\n",
       "    }\n",
       "\n",
       "    .dataframe tbody tr th {\n",
       "        vertical-align: top;\n",
       "    }\n",
       "\n",
       "    .dataframe thead th {\n",
       "        text-align: right;\n",
       "    }\n",
       "</style>\n",
       "<table border=\"1\" class=\"dataframe\">\n",
       "  <thead>\n",
       "    <tr style=\"text-align: right;\">\n",
       "      <th></th>\n",
       "      <th>ph</th>\n",
       "      <th>Hardness</th>\n",
       "      <th>Solids</th>\n",
       "      <th>Chloramines</th>\n",
       "      <th>Sulfate</th>\n",
       "      <th>Conductivity</th>\n",
       "      <th>Organic_carbon</th>\n",
       "      <th>Trihalomethanes</th>\n",
       "      <th>Turbidity</th>\n",
       "      <th>Potability</th>\n",
       "    </tr>\n",
       "  </thead>\n",
       "  <tbody>\n",
       "    <tr>\n",
       "      <th>3271</th>\n",
       "      <td>4.668102</td>\n",
       "      <td>193.681735</td>\n",
       "      <td>47580.991603</td>\n",
       "      <td>7.166639</td>\n",
       "      <td>359.948574</td>\n",
       "      <td>526.424171</td>\n",
       "      <td>13.894419</td>\n",
       "      <td>66.687695</td>\n",
       "      <td>4.435821</td>\n",
       "      <td>1</td>\n",
       "    </tr>\n",
       "    <tr>\n",
       "      <th>3272</th>\n",
       "      <td>7.808856</td>\n",
       "      <td>193.553212</td>\n",
       "      <td>17329.802160</td>\n",
       "      <td>8.061362</td>\n",
       "      <td>NaN</td>\n",
       "      <td>392.449580</td>\n",
       "      <td>19.903225</td>\n",
       "      <td>NaN</td>\n",
       "      <td>2.798243</td>\n",
       "      <td>1</td>\n",
       "    </tr>\n",
       "    <tr>\n",
       "      <th>3273</th>\n",
       "      <td>9.419510</td>\n",
       "      <td>175.762646</td>\n",
       "      <td>33155.578218</td>\n",
       "      <td>7.350233</td>\n",
       "      <td>NaN</td>\n",
       "      <td>432.044783</td>\n",
       "      <td>11.039070</td>\n",
       "      <td>69.845400</td>\n",
       "      <td>3.298875</td>\n",
       "      <td>1</td>\n",
       "    </tr>\n",
       "    <tr>\n",
       "      <th>3274</th>\n",
       "      <td>5.126763</td>\n",
       "      <td>230.603758</td>\n",
       "      <td>11983.869376</td>\n",
       "      <td>6.303357</td>\n",
       "      <td>NaN</td>\n",
       "      <td>402.883113</td>\n",
       "      <td>11.168946</td>\n",
       "      <td>77.488213</td>\n",
       "      <td>4.708658</td>\n",
       "      <td>1</td>\n",
       "    </tr>\n",
       "    <tr>\n",
       "      <th>3275</th>\n",
       "      <td>7.874671</td>\n",
       "      <td>195.102299</td>\n",
       "      <td>17404.177061</td>\n",
       "      <td>7.509306</td>\n",
       "      <td>NaN</td>\n",
       "      <td>327.459760</td>\n",
       "      <td>16.140368</td>\n",
       "      <td>78.698446</td>\n",
       "      <td>2.309149</td>\n",
       "      <td>1</td>\n",
       "    </tr>\n",
       "  </tbody>\n",
       "</table>\n",
       "</div>"
      ],
      "text/plain": [
       "            ph    Hardness        Solids  Chloramines     Sulfate  \\\n",
       "3271  4.668102  193.681735  47580.991603     7.166639  359.948574   \n",
       "3272  7.808856  193.553212  17329.802160     8.061362         NaN   \n",
       "3273  9.419510  175.762646  33155.578218     7.350233         NaN   \n",
       "3274  5.126763  230.603758  11983.869376     6.303357         NaN   \n",
       "3275  7.874671  195.102299  17404.177061     7.509306         NaN   \n",
       "\n",
       "      Conductivity  Organic_carbon  Trihalomethanes  Turbidity  Potability  \n",
       "3271    526.424171       13.894419        66.687695   4.435821           1  \n",
       "3272    392.449580       19.903225              NaN   2.798243           1  \n",
       "3273    432.044783       11.039070        69.845400   3.298875           1  \n",
       "3274    402.883113       11.168946        77.488213   4.708658           1  \n",
       "3275    327.459760       16.140368        78.698446   2.309149           1  "
      ]
     },
     "execution_count": 6,
     "metadata": {},
     "output_type": "execute_result"
    }
   ],
   "source": [
    "df.tail()"
   ]
  },
  {
   "cell_type": "code",
   "execution_count": 7,
   "id": "c8b72535",
   "metadata": {},
   "outputs": [
    {
     "data": {
      "text/plain": [
       "0    1998\n",
       "1    1278\n",
       "Name: Potability, dtype: int64"
      ]
     },
     "execution_count": 7,
     "metadata": {},
     "output_type": "execute_result"
    }
   ],
   "source": [
    "# Potability is the target variable, how many of each class are there?\n",
    "df[\"Potability\"].value_counts()"
   ]
  },
  {
   "cell_type": "code",
   "execution_count": 8,
   "id": "03594adf",
   "metadata": {},
   "outputs": [
    {
     "data": {
      "image/png": "[encoded data removed]",
      "text/plain": [
       "<Figure size 432x288 with 1 Axes>"
      ]
     },
     "metadata": {
      "needs_background": "light"
     },
     "output_type": "display_data"
    }
   ],
   "source": [
    "df[\"Potability\"].value_counts().plot(kind=\"bar\", color=[\"red\", \"blue\"], title = \"Potable Water (1=True, 0=False)\");"
   ]
  },
  {
   "cell_type": "code",
   "execution_count": 9,
   "id": "cbd93efe",
   "metadata": {},
   "outputs": [
    {
     "data": {
      "text/plain": [
       "60.98901098901099"
      ]
     },
     "execution_count": 9,
     "metadata": {},
     "output_type": "execute_result"
    }
   ],
   "source": [
    "(1998/(1998+1278))*100"
   ]
  },
  {
   "cell_type": "markdown",
   "id": "83ea8e0e",
   "metadata": {},
   "source": [
    "Target classes are a 60/40 split, negative to positive (non-potable to potable)."
   ]
  },
  {
   "cell_type": "code",
   "execution_count": 10,
   "id": "ebf935c0",
   "metadata": {},
   "outputs": [
    {
     "data": {
      "text/plain": [
       "720"
      ]
     },
     "execution_count": 10,
     "metadata": {},
     "output_type": "execute_result"
    }
   ],
   "source": [
    "1998-1278"
   ]
  },
  {
   "cell_type": "markdown",
   "id": "a5f6b9a4",
   "metadata": {},
   "source": [
    "#### Target variable class imbalance\n",
    "For the purpose of this analysis, move forward with building the ML model with the data as is.\n",
    "\n",
    "The imbalance in target classes may need to be addressed with one of various techniques (see link for reference: https://towardsdatascience.com/machine-learning-target-feature-label-imbalance-problem-and-solutions-98c5ae89ad0)\n",
    "This will be addressed in the next iteration of this project.\n",
    "\n",
    "Use F1 score, Precision and Recall as metrics.\n",
    "With more experience revist this project and improve by dealing with the imbalance issue."
   ]
  },
  {
   "cell_type": "code",
   "execution_count": 11,
   "id": "86eec1ce",
   "metadata": {},
   "outputs": [
    {
     "name": "stdout",
     "output_type": "stream",
     "text": [
      "<class 'pandas.core.frame.DataFrame'>\n",
      "RangeIndex: 3276 entries, 0 to 3275\n",
      "Data columns (total 10 columns):\n",
      " #   Column           Non-Null Count  Dtype  \n",
      "---  ------           --------------  -----  \n",
      " 0   ph               2785 non-null   float64\n",
      " 1   Hardness         3276 non-null   float64\n",
      " 2   Solids           3276 non-null   float64\n",
      " 3   Chloramines      3276 non-null   float64\n",
      " 4   Sulfate          2495 non-null   float64\n",
      " 5   Conductivity     3276 non-null   float64\n",
      " 6   Organic_carbon   3276 non-null   float64\n",
      " 7   Trihalomethanes  3114 non-null   float64\n",
      " 8   Turbidity        3276 non-null   float64\n",
      " 9   Potability       3276 non-null   int64  \n",
      "dtypes: float64(9), int64(1)\n",
      "memory usage: 256.1 KB\n"
     ]
    }
   ],
   "source": [
    "df.info()"
   ]
  },
  {
   "cell_type": "code",
   "execution_count": 12,
   "id": "07e5fc0d",
   "metadata": {},
   "outputs": [
    {
     "data": {
      "text/html": [
       "<div>\n",
       "<style scoped>\n",
       "    .dataframe tbody tr th:only-of-type {\n",
       "        vertical-align: middle;\n",
       "    }\n",
       "\n",
       "    .dataframe tbody tr th {\n",
       "        vertical-align: top;\n",
       "    }\n",
       "\n",
       "    .dataframe thead th {\n",
       "        text-align: right;\n",
       "    }\n",
       "</style>\n",
       "<table border=\"1\" class=\"dataframe\">\n",
       "  <thead>\n",
       "    <tr style=\"text-align: right;\">\n",
       "      <th></th>\n",
       "      <th>ph</th>\n",
       "      <th>Hardness</th>\n",
       "      <th>Solids</th>\n",
       "      <th>Chloramines</th>\n",
       "      <th>Sulfate</th>\n",
       "      <th>Conductivity</th>\n",
       "      <th>Organic_carbon</th>\n",
       "      <th>Trihalomethanes</th>\n",
       "      <th>Turbidity</th>\n",
       "      <th>Potability</th>\n",
       "    </tr>\n",
       "  </thead>\n",
       "  <tbody>\n",
       "    <tr>\n",
       "      <th>count</th>\n",
       "      <td>2785.000000</td>\n",
       "      <td>3276.000000</td>\n",
       "      <td>3276.000000</td>\n",
       "      <td>3276.000000</td>\n",
       "      <td>2495.000000</td>\n",
       "      <td>3276.000000</td>\n",
       "      <td>3276.000000</td>\n",
       "      <td>3114.000000</td>\n",
       "      <td>3276.000000</td>\n",
       "      <td>3276.000000</td>\n",
       "    </tr>\n",
       "    <tr>\n",
       "      <th>mean</th>\n",
       "      <td>7.080795</td>\n",
       "      <td>196.369496</td>\n",
       "      <td>22014.092526</td>\n",
       "      <td>7.122277</td>\n",
       "      <td>333.775777</td>\n",
       "      <td>426.205111</td>\n",
       "      <td>14.284970</td>\n",
       "      <td>66.396293</td>\n",
       "      <td>3.966786</td>\n",
       "      <td>0.390110</td>\n",
       "    </tr>\n",
       "    <tr>\n",
       "      <th>std</th>\n",
       "      <td>1.594320</td>\n",
       "      <td>32.879761</td>\n",
       "      <td>8768.570828</td>\n",
       "      <td>1.583085</td>\n",
       "      <td>41.416840</td>\n",
       "      <td>80.824064</td>\n",
       "      <td>3.308162</td>\n",
       "      <td>16.175008</td>\n",
       "      <td>0.780382</td>\n",
       "      <td>0.487849</td>\n",
       "    </tr>\n",
       "    <tr>\n",
       "      <th>min</th>\n",
       "      <td>0.000000</td>\n",
       "      <td>47.432000</td>\n",
       "      <td>320.942611</td>\n",
       "      <td>0.352000</td>\n",
       "      <td>129.000000</td>\n",
       "      <td>181.483754</td>\n",
       "      <td>2.200000</td>\n",
       "      <td>0.738000</td>\n",
       "      <td>1.450000</td>\n",
       "      <td>0.000000</td>\n",
       "    </tr>\n",
       "    <tr>\n",
       "      <th>25%</th>\n",
       "      <td>6.093092</td>\n",
       "      <td>176.850538</td>\n",
       "      <td>15666.690297</td>\n",
       "      <td>6.127421</td>\n",
       "      <td>307.699498</td>\n",
       "      <td>365.734414</td>\n",
       "      <td>12.065801</td>\n",
       "      <td>55.844536</td>\n",
       "      <td>3.439711</td>\n",
       "      <td>0.000000</td>\n",
       "    </tr>\n",
       "    <tr>\n",
       "      <th>50%</th>\n",
       "      <td>7.036752</td>\n",
       "      <td>196.967627</td>\n",
       "      <td>20927.833607</td>\n",
       "      <td>7.130299</td>\n",
       "      <td>333.073546</td>\n",
       "      <td>421.884968</td>\n",
       "      <td>14.218338</td>\n",
       "      <td>66.622485</td>\n",
       "      <td>3.955028</td>\n",
       "      <td>0.000000</td>\n",
       "    </tr>\n",
       "    <tr>\n",
       "      <th>75%</th>\n",
       "      <td>8.062066</td>\n",
       "      <td>216.667456</td>\n",
       "      <td>27332.762127</td>\n",
       "      <td>8.114887</td>\n",
       "      <td>359.950170</td>\n",
       "      <td>481.792304</td>\n",
       "      <td>16.557652</td>\n",
       "      <td>77.337473</td>\n",
       "      <td>4.500320</td>\n",
       "      <td>1.000000</td>\n",
       "    </tr>\n",
       "    <tr>\n",
       "      <th>max</th>\n",
       "      <td>14.000000</td>\n",
       "      <td>323.124000</td>\n",
       "      <td>61227.196008</td>\n",
       "      <td>13.127000</td>\n",
       "      <td>481.030642</td>\n",
       "      <td>753.342620</td>\n",
       "      <td>28.300000</td>\n",
       "      <td>124.000000</td>\n",
       "      <td>6.739000</td>\n",
       "      <td>1.000000</td>\n",
       "    </tr>\n",
       "  </tbody>\n",
       "</table>\n",
       "</div>"
      ],
      "text/plain": [
       "                ph     Hardness        Solids  Chloramines      Sulfate  \\\n",
       "count  2785.000000  3276.000000   3276.000000  3276.000000  2495.000000   \n",
       "mean      7.080795   196.369496  22014.092526     7.122277   333.775777   \n",
       "std       1.594320    32.879761   8768.570828     1.583085    41.416840   \n",
       "min       0.000000    47.432000    320.942611     0.352000   129.000000   \n",
       "25%       6.093092   176.850538  15666.690297     6.127421   307.699498   \n",
       "50%       7.036752   196.967627  20927.833607     7.130299   333.073546   \n",
       "75%       8.062066   216.667456  27332.762127     8.114887   359.950170   \n",
       "max      14.000000   323.124000  61227.196008    13.127000   481.030642   \n",
       "\n",
       "       Conductivity  Organic_carbon  Trihalomethanes    Turbidity   Potability  \n",
       "count   3276.000000     3276.000000      3114.000000  3276.000000  3276.000000  \n",
       "mean     426.205111       14.284970        66.396293     3.966786     0.390110  \n",
       "std       80.824064        3.308162        16.175008     0.780382     0.487849  \n",
       "min      181.483754        2.200000         0.738000     1.450000     0.000000  \n",
       "25%      365.734414       12.065801        55.844536     3.439711     0.000000  \n",
       "50%      421.884968       14.218338        66.622485     3.955028     0.000000  \n",
       "75%      481.792304       16.557652        77.337473     4.500320     1.000000  \n",
       "max      753.342620       28.300000       124.000000     6.739000     1.000000  "
      ]
     },
     "execution_count": 12,
     "metadata": {},
     "output_type": "execute_result"
    }
   ],
   "source": [
    "df.describe()"
   ]
  },
  {
   "cell_type": "code",
   "execution_count": 13,
   "id": "a4fbd77e",
   "metadata": {},
   "outputs": [
    {
     "data": {
      "text/plain": [
       "ph                 491\n",
       "Hardness             0\n",
       "Solids               0\n",
       "Chloramines          0\n",
       "Sulfate            781\n",
       "Conductivity         0\n",
       "Organic_carbon       0\n",
       "Trihalomethanes    162\n",
       "Turbidity            0\n",
       "Potability           0\n",
       "dtype: int64"
      ]
     },
     "execution_count": 13,
     "metadata": {},
     "output_type": "execute_result"
    }
   ],
   "source": [
    "df.isna().sum()"
   ]
  },
  {
   "cell_type": "markdown",
   "id": "ba945487",
   "metadata": {},
   "source": [
    "#### Missing values will be handled after splitting the data set"
   ]
  },
  {
   "cell_type": "markdown",
   "id": "6b497c1f",
   "metadata": {},
   "source": [
    "### Use a Seaborn boxplot to visulize the distributions for the Potability classes"
   ]
  },
  {
   "cell_type": "code",
   "execution_count": 15,
   "id": "03b3633e",
   "metadata": {},
   "outputs": [
    {
     "data": {
      "image/png": "[encoded data removed]",
      "text/plain": [
       "<Figure size 1296x1296 with 6 Axes>"
      ]
     },
     "metadata": {
      "needs_background": "light"
     },
     "output_type": "display_data"
    }
   ],
   "source": [
    "fig, axes = plt.subplots(2, 3, figsize=(18, 18))\n",
    "sns.boxplot(ax=axes[0,0], data=df, palette=\"Set2\", x='Potability', y='ph')\n",
    "sns.boxplot(ax=axes[0,1], data=df, palette=\"Set2\", x='Potability', y='Chloramines')\n",
    "sns.boxplot(ax=axes[0,2], data=df, palette=\"Set2\", x='Potability', y='Trihalomethanes')\n",
    "sns.boxplot(ax=axes[1,0], data=df, palette=\"Set3\", x='Potability', y='Hardness')\n",
    "sns.boxplot(ax=axes[1,1], data=df, palette=\"Set3\", x='Potability', y='Sulfate')\n",
    "sns.boxplot(ax=axes[1,2], data=df, palette=\"Set3\", x='Potability', y='Organic_carbon');"
   ]
  },
  {
   "cell_type": "markdown",
   "id": "3ba660e0",
   "metadata": {},
   "source": [
    "### Look at the overall distribution of the features with histograms"
   ]
  },
  {
   "cell_type": "code",
   "execution_count": 16,
   "id": "a987e1ab",
   "metadata": {},
   "outputs": [
    {
     "data": {
      "image/png": "[encoded data removed]",
      "text/plain": [
       "<Figure size 1440x1440 with 9 Axes>"
      ]
     },
     "metadata": {
      "needs_background": "light"
     },
     "output_type": "display_data"
    }
   ],
   "source": [
    "# Distribution of features\n",
    "potable = df.query('Potability == 0')\n",
    "not_potable = df.query('Potability == 1')\n",
    "\n",
    "fig = plt.figure(figsize=(20,20))\n",
    "\n",
    "for ax,column in enumerate(df.columns[:9]):\n",
    "    plt.subplot(3,3,ax+1)\n",
    "    plt.title(f'Distribution of {column} values')\n",
    "    sns.histplot(x=not_potable[column],label='Not Potable(0)', color=\"salmon\")\n",
    "    sns.histplot(x=potable[column],label='Potable(1)', color=\"lightblue\")\n",
    "    plt.legend(prop=dict(size=10))\n",
    "\n",
    "    \n",
    "plt.tight_layout()"
   ]
  },
  {
   "cell_type": "markdown",
   "id": "a6e2710a",
   "metadata": {},
   "source": [
    "### Produce a correlation matrix to visualize data correlation"
   ]
  },
  {
   "cell_type": "code",
   "execution_count": 17,
   "id": "9bf705f5",
   "metadata": {},
   "outputs": [
    {
     "data": {
      "image/png": "[encoded data removed]",
      "text/plain": [
       "<Figure size 1080x720 with 2 Axes>"
      ]
     },
     "metadata": {
      "needs_background": "light"
     },
     "output_type": "display_data"
    }
   ],
   "source": [
    "# Use Seaborn to make a correlation matrix\n",
    "corr_matrix = df.corr()\n",
    "fig, ax = plt.subplots(figsize=(15,10))\n",
    "ax = sns.heatmap(corr_matrix,\n",
    "                annot=True,\n",
    "                linewidths=0.5,\n",
    "                fmt=\".2f\",\n",
    "                cmap=\"YlGnBu\");"
   ]
  },
  {
   "cell_type": "markdown",
   "id": "25866424",
   "metadata": {},
   "source": [
    "### Little to no correlation present in the dataset"
   ]
  },
  {
   "cell_type": "markdown",
   "id": "4a110054",
   "metadata": {},
   "source": [
    "## Modeling\n",
    "\n",
    "* Create a working copy of the dataset\n",
    "* Data set needs to be split into training and test sets.\n",
    "* After splitting, complete imputation.\n"
   ]
  },
  {
   "cell_type": "code",
   "execution_count": 18,
   "id": "37fda02e",
   "metadata": {},
   "outputs": [],
   "source": [
    "# Create workign copy of dataset\n",
    "df_work = df.copy()"
   ]
  },
  {
   "cell_type": "code",
   "execution_count": 19,
   "id": "32672c47",
   "metadata": {},
   "outputs": [],
   "source": [
    "# Split data into X & y\n",
    "\n",
    "X = df_work.drop(\"Potability\", axis=1)\n",
    "y = df_work.Potability"
   ]
  },
  {
   "cell_type": "code",
   "execution_count": 20,
   "id": "0aa75dbc",
   "metadata": {},
   "outputs": [],
   "source": [
    "# Split data into train and test sets\n",
    "np.random.seed(19)\n",
    "\n",
    "X_train, X_test, y_train, y_test = train_test_split(X, y, test_size=0.2)"
   ]
  },
  {
   "cell_type": "code",
   "execution_count": 21,
   "id": "0054e33f",
   "metadata": {},
   "outputs": [
    {
     "data": {
      "text/html": [
       "<div>\n",
       "<style scoped>\n",
       "    .dataframe tbody tr th:only-of-type {\n",
       "        vertical-align: middle;\n",
       "    }\n",
       "\n",
       "    .dataframe tbody tr th {\n",
       "        vertical-align: top;\n",
       "    }\n",
       "\n",
       "    .dataframe thead th {\n",
       "        text-align: right;\n",
       "    }\n",
       "</style>\n",
       "<table border=\"1\" class=\"dataframe\">\n",
       "  <thead>\n",
       "    <tr style=\"text-align: right;\">\n",
       "      <th></th>\n",
       "      <th>ph</th>\n",
       "      <th>Hardness</th>\n",
       "      <th>Solids</th>\n",
       "      <th>Chloramines</th>\n",
       "      <th>Sulfate</th>\n",
       "      <th>Conductivity</th>\n",
       "      <th>Organic_carbon</th>\n",
       "      <th>Trihalomethanes</th>\n",
       "      <th>Turbidity</th>\n",
       "    </tr>\n",
       "  </thead>\n",
       "  <tbody>\n",
       "    <tr>\n",
       "      <th>172</th>\n",
       "      <td>NaN</td>\n",
       "      <td>237.677383</td>\n",
       "      <td>26009.075259</td>\n",
       "      <td>7.074531</td>\n",
       "      <td>372.600296</td>\n",
       "      <td>344.767924</td>\n",
       "      <td>14.442238</td>\n",
       "      <td>72.696240</td>\n",
       "      <td>3.706602</td>\n",
       "    </tr>\n",
       "    <tr>\n",
       "      <th>1797</th>\n",
       "      <td>6.157443</td>\n",
       "      <td>155.835706</td>\n",
       "      <td>25937.711438</td>\n",
       "      <td>8.163144</td>\n",
       "      <td>298.192406</td>\n",
       "      <td>533.288351</td>\n",
       "      <td>14.356496</td>\n",
       "      <td>68.120761</td>\n",
       "      <td>4.770154</td>\n",
       "    </tr>\n",
       "    <tr>\n",
       "      <th>2762</th>\n",
       "      <td>6.100245</td>\n",
       "      <td>160.608230</td>\n",
       "      <td>13886.809713</td>\n",
       "      <td>7.542775</td>\n",
       "      <td>366.688795</td>\n",
       "      <td>449.948287</td>\n",
       "      <td>18.722860</td>\n",
       "      <td>64.390521</td>\n",
       "      <td>2.174898</td>\n",
       "    </tr>\n",
       "    <tr>\n",
       "      <th>570</th>\n",
       "      <td>7.785107</td>\n",
       "      <td>174.889361</td>\n",
       "      <td>13404.254332</td>\n",
       "      <td>7.517806</td>\n",
       "      <td>NaN</td>\n",
       "      <td>491.431722</td>\n",
       "      <td>13.825548</td>\n",
       "      <td>75.059426</td>\n",
       "      <td>4.904613</td>\n",
       "    </tr>\n",
       "    <tr>\n",
       "      <th>1617</th>\n",
       "      <td>6.957434</td>\n",
       "      <td>214.380139</td>\n",
       "      <td>15007.421534</td>\n",
       "      <td>6.997160</td>\n",
       "      <td>328.818760</td>\n",
       "      <td>468.555062</td>\n",
       "      <td>17.407261</td>\n",
       "      <td>104.207104</td>\n",
       "      <td>4.892050</td>\n",
       "    </tr>\n",
       "    <tr>\n",
       "      <th>...</th>\n",
       "      <td>...</td>\n",
       "      <td>...</td>\n",
       "      <td>...</td>\n",
       "      <td>...</td>\n",
       "      <td>...</td>\n",
       "      <td>...</td>\n",
       "      <td>...</td>\n",
       "      <td>...</td>\n",
       "      <td>...</td>\n",
       "    </tr>\n",
       "    <tr>\n",
       "      <th>936</th>\n",
       "      <td>5.746529</td>\n",
       "      <td>183.471794</td>\n",
       "      <td>35633.268511</td>\n",
       "      <td>6.066386</td>\n",
       "      <td>327.557850</td>\n",
       "      <td>354.174437</td>\n",
       "      <td>12.548871</td>\n",
       "      <td>70.525972</td>\n",
       "      <td>3.808372</td>\n",
       "    </tr>\n",
       "    <tr>\n",
       "      <th>1378</th>\n",
       "      <td>7.499844</td>\n",
       "      <td>210.985034</td>\n",
       "      <td>23707.465304</td>\n",
       "      <td>7.148518</td>\n",
       "      <td>NaN</td>\n",
       "      <td>484.843340</td>\n",
       "      <td>18.081957</td>\n",
       "      <td>52.967469</td>\n",
       "      <td>4.454477</td>\n",
       "    </tr>\n",
       "    <tr>\n",
       "      <th>757</th>\n",
       "      <td>8.370440</td>\n",
       "      <td>231.442553</td>\n",
       "      <td>15063.814968</td>\n",
       "      <td>12.279374</td>\n",
       "      <td>NaN</td>\n",
       "      <td>422.293819</td>\n",
       "      <td>15.027088</td>\n",
       "      <td>67.503004</td>\n",
       "      <td>3.210635</td>\n",
       "    </tr>\n",
       "    <tr>\n",
       "      <th>2670</th>\n",
       "      <td>10.600590</td>\n",
       "      <td>274.968783</td>\n",
       "      <td>21558.308741</td>\n",
       "      <td>6.112819</td>\n",
       "      <td>350.363703</td>\n",
       "      <td>331.120496</td>\n",
       "      <td>12.610799</td>\n",
       "      <td>NaN</td>\n",
       "      <td>5.477700</td>\n",
       "    </tr>\n",
       "    <tr>\n",
       "      <th>1629</th>\n",
       "      <td>6.341751</td>\n",
       "      <td>139.959471</td>\n",
       "      <td>18058.320292</td>\n",
       "      <td>8.361337</td>\n",
       "      <td>417.602446</td>\n",
       "      <td>347.464419</td>\n",
       "      <td>13.314422</td>\n",
       "      <td>58.220982</td>\n",
       "      <td>4.019011</td>\n",
       "    </tr>\n",
       "  </tbody>\n",
       "</table>\n",
       "<p>2620 rows × 9 columns</p>\n",
       "</div>"
      ],
      "text/plain": [
       "             ph    Hardness        Solids  Chloramines     Sulfate  \\\n",
       "172         NaN  237.677383  26009.075259     7.074531  372.600296   \n",
       "1797   6.157443  155.835706  25937.711438     8.163144  298.192406   \n",
       "2762   6.100245  160.608230  13886.809713     7.542775  366.688795   \n",
       "570    7.785107  174.889361  13404.254332     7.517806         NaN   \n",
       "1617   6.957434  214.380139  15007.421534     6.997160  328.818760   \n",
       "...         ...         ...           ...          ...         ...   \n",
       "936    5.746529  183.471794  35633.268511     6.066386  327.557850   \n",
       "1378   7.499844  210.985034  23707.465304     7.148518         NaN   \n",
       "757    8.370440  231.442553  15063.814968    12.279374         NaN   \n",
       "2670  10.600590  274.968783  21558.308741     6.112819  350.363703   \n",
       "1629   6.341751  139.959471  18058.320292     8.361337  417.602446   \n",
       "\n",
       "      Conductivity  Organic_carbon  Trihalomethanes  Turbidity  \n",
       "172     344.767924       14.442238        72.696240   3.706602  \n",
       "1797    533.288351       14.356496        68.120761   4.770154  \n",
       "2762    449.948287       18.722860        64.390521   2.174898  \n",
       "570     491.431722       13.825548        75.059426   4.904613  \n",
       "1617    468.555062       17.407261       104.207104   4.892050  \n",
       "...            ...             ...              ...        ...  \n",
       "936     354.174437       12.548871        70.525972   3.808372  \n",
       "1378    484.843340       18.081957        52.967469   4.454477  \n",
       "757     422.293819       15.027088        67.503004   3.210635  \n",
       "2670    331.120496       12.610799              NaN   5.477700  \n",
       "1629    347.464419       13.314422        58.220982   4.019011  \n",
       "\n",
       "[2620 rows x 9 columns]"
      ]
     },
     "execution_count": 21,
     "metadata": {},
     "output_type": "execute_result"
    }
   ],
   "source": [
    "X_train"
   ]
  },
  {
   "cell_type": "markdown",
   "id": "3388646c",
   "metadata": {},
   "source": [
    "#### Check missing values in the training set"
   ]
  },
  {
   "cell_type": "code",
   "execution_count": 22,
   "id": "3ed48703",
   "metadata": {},
   "outputs": [
    {
     "data": {
      "text/plain": [
       "0"
      ]
     },
     "execution_count": 22,
     "metadata": {},
     "output_type": "execute_result"
    }
   ],
   "source": [
    "y_train.isna().sum()"
   ]
  },
  {
   "cell_type": "code",
   "execution_count": 23,
   "id": "815b1134",
   "metadata": {},
   "outputs": [
    {
     "data": {
      "text/plain": [
       "ph                 395\n",
       "Hardness             0\n",
       "Solids               0\n",
       "Chloramines          0\n",
       "Sulfate            624\n",
       "Conductivity         0\n",
       "Organic_carbon       0\n",
       "Trihalomethanes    127\n",
       "Turbidity            0\n",
       "dtype: int64"
      ]
     },
     "execution_count": 23,
     "metadata": {},
     "output_type": "execute_result"
    }
   ],
   "source": [
    "X_train.isna().sum()"
   ]
  },
  {
   "cell_type": "markdown",
   "id": "21df8ca6",
   "metadata": {},
   "source": [
    "#### Impute the missing values for ph, sulfate and trihalomethanes in the training set with median values"
   ]
  },
  {
   "cell_type": "code",
   "execution_count": 24,
   "id": "7bbd60e7",
   "metadata": {},
   "outputs": [],
   "source": [
    "pd.options.mode.chained_assignment = None  # default='warn'\n",
    "\n",
    "X_train['ph'] = X_train['ph'].fillna(X_train['ph'].median())\n",
    "X_train['Sulfate'] = X_train['Sulfate'].fillna(X_train['Sulfate'].median())\n",
    "X_train['Trihalomethanes'] = X_train['Trihalomethanes'].fillna(X_train['Trihalomethanes'].median())"
   ]
  },
  {
   "cell_type": "code",
   "execution_count": 25,
   "id": "56b41472",
   "metadata": {},
   "outputs": [
    {
     "data": {
      "text/plain": [
       "ph                 0\n",
       "Hardness           0\n",
       "Solids             0\n",
       "Chloramines        0\n",
       "Sulfate            0\n",
       "Conductivity       0\n",
       "Organic_carbon     0\n",
       "Trihalomethanes    0\n",
       "Turbidity          0\n",
       "dtype: int64"
      ]
     },
     "execution_count": 25,
     "metadata": {},
     "output_type": "execute_result"
    }
   ],
   "source": [
    "X_train.isna().sum()"
   ]
  },
  {
   "cell_type": "markdown",
   "id": "168cb4d0",
   "metadata": {},
   "source": [
    "#### Check missing values in the Test set"
   ]
  },
  {
   "cell_type": "code",
   "execution_count": 26,
   "id": "a4472fa5",
   "metadata": {},
   "outputs": [
    {
     "data": {
      "text/plain": [
       "ph                  96\n",
       "Hardness             0\n",
       "Solids               0\n",
       "Chloramines          0\n",
       "Sulfate            157\n",
       "Conductivity         0\n",
       "Organic_carbon       0\n",
       "Trihalomethanes     35\n",
       "Turbidity            0\n",
       "dtype: int64"
      ]
     },
     "execution_count": 26,
     "metadata": {},
     "output_type": "execute_result"
    }
   ],
   "source": [
    "X_test.isna().sum()"
   ]
  },
  {
   "cell_type": "markdown",
   "id": "dc19fa06",
   "metadata": {},
   "source": [
    "#### Impute the missing values for ph, sulfate and trihalomethanes in the test set with median values"
   ]
  },
  {
   "cell_type": "code",
   "execution_count": 27,
   "id": "7ca525e1",
   "metadata": {},
   "outputs": [],
   "source": [
    "X_test['ph'] = X_test['ph'].fillna(X_test['ph'].median())\n",
    "X_test['Sulfate'] = X_test['Sulfate'].fillna(X_test['Sulfate'].median())\n",
    "X_test['Trihalomethanes'] = X_test['Trihalomethanes'].fillna(X_test['Trihalomethanes'].median())"
   ]
  },
  {
   "cell_type": "code",
   "execution_count": 28,
   "id": "50d3ab29",
   "metadata": {},
   "outputs": [
    {
     "data": {
      "text/plain": [
       "ph                 0\n",
       "Hardness           0\n",
       "Solids             0\n",
       "Chloramines        0\n",
       "Sulfate            0\n",
       "Conductivity       0\n",
       "Organic_carbon     0\n",
       "Trihalomethanes    0\n",
       "Turbidity          0\n",
       "dtype: int64"
      ]
     },
     "execution_count": 28,
     "metadata": {},
     "output_type": "execute_result"
    }
   ],
   "source": [
    "X_test.isna().sum()"
   ]
  },
  {
   "cell_type": "markdown",
   "id": "55b31a57",
   "metadata": {},
   "source": [
    "### Data has been split into training and test sets and missing values have been filled\n",
    "\n",
    "Select the machine learning models to use.  The models will then be trained on the training set and tested on the test set.\n",
    "\n",
    "Working with four machine learning models:\n",
    "\n",
    "1. Logistic Regression\n",
    "2. K-Nearest Neighbors\n",
    "3. RandomForestClassifier\n",
    "4. CatBoostClassifier"
   ]
  },
  {
   "cell_type": "code",
   "execution_count": 40,
   "id": "7093270f",
   "metadata": {},
   "outputs": [],
   "source": [
    "# Put the models into a dictionary\n",
    "\n",
    "models = {\"Logistic Regression\":LogisticRegression(),\n",
    "         \"KNN\": KNeighborsClassifier(),\n",
    "         \"Random Forest\": RandomForestClassifier(),\n",
    "         \"CatBoost\": CatBoostClassifier()}\n",
    "\n",
    "# Write a function that will fit these models to the training data and then provide a score when evaluated against the test data\n",
    "\n",
    "def fit_eval(models, X_train, X_test, y_train, y_test):\n",
    "    \"\"\"\n",
    "    Function will fit and evaluate the given machine learning models.  models is a dictionary of previously imported machine learning models\n",
    "    X_train: training data (no labels)\n",
    "    X_test: testing data (no labels)\n",
    "    y_train: training labels\n",
    "    y_test: test labels\n",
    "    \"\"\"\n",
    "    \n",
    "    # Set a random seed\n",
    "    np.random.seed(19)\n",
    "    \n",
    "    # Create an empty dictionary to store each model's score\n",
    "    model_scores = {}\n",
    "    \n",
    "    # Loop through the models to fit and then score\n",
    "    for name, model in models.items():\n",
    "        # data fitting\n",
    "        model.fit(X_train, y_train);\n",
    "        # evaluate the model and place score in model_scores dictionary\n",
    "        model_scores[name] = model.score(X_test,y_test);\n",
    "    return model_scores;"
   ]
  },
  {
   "cell_type": "code",
   "execution_count": null,
   "id": "80d534ff",
   "metadata": {},
   "outputs": [],
   "source": [
    "model_scores = fit_eval(models = models,\n",
    "                      X_train = X_train,\n",
    "                      X_test = X_test,\n",
    "                      y_train = y_train,\n",
    "                      y_test = y_test);"
   ]
  },
  {
   "cell_type": "code",
   "execution_count": 42,
   "id": "91d31684",
   "metadata": {},
   "outputs": [
    {
     "data": {
      "image/png": "[encoded data removed]",
      "text/plain": [
       "<Figure size 432x288 with 1 Axes>"
      ]
     },
     "metadata": {
      "needs_background": "light"
     },
     "output_type": "display_data"
    }
   ],
   "source": [
    "model_compare=pd.DataFrame(model_scores, index=[\"accuracy\"])\n",
    "model_compare.T.plot.bar();"
   ]
  },
  {
   "cell_type": "markdown",
   "id": "12c51040",
   "metadata": {},
   "source": [
    "#### Due to imbalnce in the data, accuracy isn't the best evaluation metric.\n",
    "\n",
    "In the next steps work model hyperparameter tuning and review additional metrics.\n",
    "\n",
    "The KNeighborsClassifier will no longer be considered."
   ]
  },
  {
   "cell_type": "markdown",
   "id": "27440505",
   "metadata": {},
   "source": [
    "### Hyperprameter Tuning\n",
    "\n",
    "Using RandomizeSearchCV with:\n",
    "1. LogisticRegression()\n",
    "2. RandomForestClassifier()\n",
    "3. CatBoostClassifier()\n",
    "\n",
    "**Create hyperparameter grids for the remaining 3 models**"
   ]
  },
  {
   "cell_type": "code",
   "execution_count": 43,
   "id": "d2a71b0a",
   "metadata": {},
   "outputs": [],
   "source": [
    "# Create a hyperparameter grid for LogisticRegression\n",
    "lr_grid = {\"C\":np.logspace(-2, 2, 20),\n",
    "               \"solver\":[\"liblinear\"]}  \n",
    "\n",
    "# Create a hyperparmeter grid for RandomForestClassifier\n",
    "rf_grid = {\"n_estimators\": [100, 200, 300, 500],\n",
    "          \"max_depth\": [5, 10, 12],\n",
    "          \"max_features\": ['auto', 'sqrt', 'log2'],\n",
    "          \"min_samples_split\": np.arange(10, 20, 2),\n",
    "          \"min_samples_leaf\": np.arange(1, 20, 2)}\n",
    "\n",
    "# Create a hyperparmeter grid for CatBoostClassifier\n",
    "cb_grid = {\"depth\": [8],\n",
    "          \"learning_rate\": np.linspace(0,0.2,5)}"
   ]
  },
  {
   "cell_type": "markdown",
   "id": "31d7eb88",
   "metadata": {},
   "source": [
    "#### Tune the LogisticRegression Model"
   ]
  },
  {
   "cell_type": "code",
   "execution_count": 44,
   "id": "2030e5c6",
   "metadata": {},
   "outputs": [
    {
     "name": "stdout",
     "output_type": "stream",
     "text": [
      "Fitting 5 folds for each of 20 candidates, totalling 100 fits\n"
     ]
    },
    {
     "data": {
      "text/plain": [
       "RandomizedSearchCV(cv=5, estimator=LogisticRegression(), n_iter=20,\n",
       "                   param_distributions={'C': array([1.00000000e-02, 1.62377674e-02, 2.63665090e-02, 4.28133240e-02,\n",
       "       6.95192796e-02, 1.12883789e-01, 1.83298071e-01, 2.97635144e-01,\n",
       "       4.83293024e-01, 7.84759970e-01, 1.27427499e+00, 2.06913808e+00,\n",
       "       3.35981829e+00, 5.45559478e+00, 8.85866790e+00, 1.43844989e+01,\n",
       "       2.33572147e+01, 3.79269019e+01, 6.15848211e+01, 1.00000000e+02]),\n",
       "                                        'solver': ['liblinear']},\n",
       "                   verbose=True)"
      ]
     },
     "execution_count": 44,
     "metadata": {},
     "output_type": "execute_result"
    }
   ],
   "source": [
    "np.random.seed(19)\n",
    "\n",
    "# Setup a random hyperparameter search\n",
    "rs_lr = RandomizedSearchCV(LogisticRegression(),\n",
    "                               param_distributions = lr_grid,\n",
    "                               cv=5,\n",
    "                               n_iter=20,\n",
    "                               verbose=True)\n",
    "\n",
    "# Fit the random hyperparameter search model for LogisticRegression\n",
    "rs_lr.fit(X_train,y_train)"
   ]
  },
  {
   "cell_type": "code",
   "execution_count": 45,
   "id": "50549d9c",
   "metadata": {},
   "outputs": [
    {
     "data": {
      "text/plain": [
       "{'solver': 'liblinear', 'C': 0.01}"
      ]
     },
     "execution_count": 45,
     "metadata": {},
     "output_type": "execute_result"
    }
   ],
   "source": [
    "rs_lr.best_params_"
   ]
  },
  {
   "cell_type": "code",
   "execution_count": 46,
   "id": "6842f44e",
   "metadata": {},
   "outputs": [
    {
     "data": {
      "text/plain": [
       "0.614329268292683"
      ]
     },
     "execution_count": 46,
     "metadata": {},
     "output_type": "execute_result"
    }
   ],
   "source": [
    "rs_lr.score(X_test,y_test)"
   ]
  },
  {
   "cell_type": "markdown",
   "id": "4e256e73",
   "metadata": {},
   "source": [
    "#### Tune the RandomForestClassifier Model"
   ]
  },
  {
   "cell_type": "code",
   "execution_count": 47,
   "id": "795af1ed",
   "metadata": {},
   "outputs": [
    {
     "name": "stdout",
     "output_type": "stream",
     "text": [
      "Fitting 5 folds for each of 20 candidates, totalling 100 fits\n"
     ]
    },
    {
     "data": {
      "text/plain": [
       "RandomizedSearchCV(cv=5, estimator=RandomForestClassifier(), n_iter=20,\n",
       "                   param_distributions={'max_depth': [5, 10, 12],\n",
       "                                        'max_features': ['auto', 'sqrt',\n",
       "                                                         'log2'],\n",
       "                                        'min_samples_leaf': array([ 1,  3,  5,  7,  9, 11, 13, 15, 17, 19]),\n",
       "                                        'min_samples_split': array([10, 12, 14, 16, 18]),\n",
       "                                        'n_estimators': [100, 200, 300, 500]},\n",
       "                   verbose=True)"
      ]
     },
     "execution_count": 47,
     "metadata": {},
     "output_type": "execute_result"
    }
   ],
   "source": [
    "np.random.seed(19)\n",
    "\n",
    "# Setup a random hyperparameter search\n",
    "rs_rf = RandomizedSearchCV(RandomForestClassifier(),\n",
    "                         param_distributions = rf_grid,\n",
    "                         cv=5,\n",
    "                         n_iter=20,\n",
    "                         verbose=True)\n",
    "\n",
    "# Fit the random hyperparameter search model for RandomForestClassifier\n",
    "rs_rf.fit(X_train, y_train)\n"
   ]
  },
  {
   "cell_type": "code",
   "execution_count": 48,
   "id": "49d344f6",
   "metadata": {},
   "outputs": [
    {
     "data": {
      "text/plain": [
       "{'n_estimators': 200,\n",
       " 'min_samples_split': 16,\n",
       " 'min_samples_leaf': 1,\n",
       " 'max_features': 'auto',\n",
       " 'max_depth': 12}"
      ]
     },
     "execution_count": 48,
     "metadata": {},
     "output_type": "execute_result"
    }
   ],
   "source": [
    "rs_rf.best_params_"
   ]
  },
  {
   "cell_type": "code",
   "execution_count": 49,
   "id": "6b2cfa32",
   "metadata": {},
   "outputs": [
    {
     "data": {
      "text/plain": [
       "0.6859756097560976"
      ]
     },
     "execution_count": 49,
     "metadata": {},
     "output_type": "execute_result"
    }
   ],
   "source": [
    "rs_rf.score(X_test, y_test)"
   ]
  },
  {
   "cell_type": "markdown",
   "id": "48ee992c",
   "metadata": {},
   "source": [
    "#### Tune the Catboost Model"
   ]
  },
  {
   "cell_type": "code",
   "execution_count": null,
   "id": "89738382",
   "metadata": {
    "scrolled": false
   },
   "outputs": [],
   "source": [
    "np.random.seed(19)\n",
    "\n",
    "# Setup a random hyperparameter search\n",
    "rs_cb = RandomizedSearchCV(CatBoostClassifier(),\n",
    "                         param_distributions = cb_grid,\n",
    "                         cv=5,\n",
    "                         n_iter=20,\n",
    "                         verbose=False);\n",
    "\n",
    "# Fit the random hyperparameter search model for CatBoostClassifier\n",
    "rs_cb.fit(X_train, y_train);"
   ]
  },
  {
   "cell_type": "code",
   "execution_count": 51,
   "id": "72a56c83",
   "metadata": {},
   "outputs": [
    {
     "data": {
      "text/plain": [
       "{'learning_rate': 0.05, 'depth': 8}"
      ]
     },
     "execution_count": 51,
     "metadata": {},
     "output_type": "execute_result"
    }
   ],
   "source": [
    "rs_cb.best_params_"
   ]
  },
  {
   "cell_type": "code",
   "execution_count": 62,
   "id": "3c889649",
   "metadata": {},
   "outputs": [
    {
     "data": {
      "text/plain": [
       "0.6615853658536586"
      ]
     },
     "execution_count": 62,
     "metadata": {},
     "output_type": "execute_result"
    }
   ],
   "source": [
    "rs_cb.score(X_test, y_test)"
   ]
  },
  {
   "cell_type": "markdown",
   "id": "6fa3d2f4",
   "metadata": {},
   "source": [
    "### Hyperparameter Tuning using GridSearchCV\n",
    "\n",
    "The RandomForestClassifier model has the best results so far, move forward with it."
   ]
  },
  {
   "cell_type": "code",
   "execution_count": 60,
   "id": "eae6478e",
   "metadata": {},
   "outputs": [
    {
     "data": {
      "text/plain": [
       "GridSearchCV(cv=5, estimator=RandomForestClassifier(),\n",
       "             param_grid={'max_depth': [12, 14], 'min_samples_leaf': [1],\n",
       "                         'min_samples_split': [16],\n",
       "                         'n_estimators': [200, 600, 800]},\n",
       "             verbose=False)"
      ]
     },
     "execution_count": 60,
     "metadata": {},
     "output_type": "execute_result"
    }
   ],
   "source": [
    "# Different hyperparams for our RandomForestClassifier\n",
    "rf_grid = {\"n_estimators\": [200, 600, 800],\n",
    "          \"max_depth\": [12, 14],\n",
    "          \"min_samples_split\": [16],\n",
    "          \"min_samples_leaf\": [1]}\n",
    "\n",
    "# Setup the Grid hyperparam search\n",
    "gs_rf = GridSearchCV(RandomForestClassifier(),\n",
    "                    param_grid = rf_grid,\n",
    "                    cv=5,\n",
    "                    verbose=False)\n",
    "\n",
    "# Fit the grid hyperparameter search model\n",
    "gs_rf.fit(X_train, y_train)"
   ]
  },
  {
   "cell_type": "code",
   "execution_count": 54,
   "id": "35ac7412",
   "metadata": {},
   "outputs": [
    {
     "data": {
      "text/plain": [
       "{'max_depth': 14,\n",
       " 'min_samples_leaf': 1,\n",
       " 'min_samples_split': 16,\n",
       " 'n_estimators': 600}"
      ]
     },
     "execution_count": 54,
     "metadata": {},
     "output_type": "execute_result"
    }
   ],
   "source": [
    "gs_rf.best_params_"
   ]
  },
  {
   "cell_type": "code",
   "execution_count": 55,
   "id": "02ff2042",
   "metadata": {},
   "outputs": [
    {
     "data": {
      "text/plain": [
       "0.6890243902439024"
      ]
     },
     "execution_count": 55,
     "metadata": {},
     "output_type": "execute_result"
    }
   ],
   "source": [
    "gs_rf.score(X_test, y_test)"
   ]
  },
  {
   "cell_type": "markdown",
   "id": "e223cdf5",
   "metadata": {},
   "source": [
    "#### Evaluate the RandomForestClassifier Model with additional evaluation metrics\n",
    "\n",
    "* ROC curve and AUC score\n",
    "* Confusion matrix\n",
    "* Classification report\n",
    "* Precision\n",
    "* Recall\n",
    "* F1 score"
   ]
  },
  {
   "cell_type": "code",
   "execution_count": 56,
   "id": "22edcba7",
   "metadata": {},
   "outputs": [],
   "source": [
    "# Make predictions with the tuned RandomForestClassifier model\n",
    "y_preds = gs_rf.predict(X_test)"
   ]
  },
  {
   "cell_type": "code",
   "execution_count": 57,
   "id": "3b718fa5",
   "metadata": {},
   "outputs": [
    {
     "data": {
      "image/png": "[encoded data removed]",
      "text/plain": [
       "<Figure size 432x288 with 1 Axes>"
      ]
     },
     "metadata": {
      "needs_background": "light"
     },
     "output_type": "display_data"
    }
   ],
   "source": [
    "# Plot ROC curve and calculate the AUC metric\n",
    "plot_roc_curve(gs_rf, X_test, y_test);"
   ]
  },
  {
   "cell_type": "code",
   "execution_count": 58,
   "id": "bf747e7c",
   "metadata": {},
   "outputs": [
    {
     "data": {
      "image/png": "[encoded data removed]",
      "text/plain": [
       "<Figure size 432x288 with 2 Axes>"
      ]
     },
     "metadata": {
      "needs_background": "light"
     },
     "output_type": "display_data"
    }
   ],
   "source": [
    "# Plot a confusion matrix with labels showing the models weaknesses\n",
    "\n",
    "cf_matrix = confusion_matrix(y_test, y_preds)\n",
    "\n",
    "group_names = ['True Neg','False Pos','False Neg','True Pos']\n",
    "group_counts = [\"{0:0.0f}\".format(value) for value in\n",
    "                cf_matrix.flatten()]\n",
    "group_percentages = [\"{0:.2%}\".format(value) for value in\n",
    "                     cf_matrix.flatten()/np.sum(cf_matrix)]\n",
    "labels = [f\"{v1}\\n{v2}\\n{v3}\" for v1, v2, v3 in\n",
    "          zip(group_names,group_counts,group_percentages)]\n",
    "labels = np.asarray(labels).reshape(2,2)\n",
    "sns.heatmap(cf_matrix, annot=labels, fmt='', cmap='inferno');"
   ]
  },
  {
   "cell_type": "markdown",
   "id": "a3d37d05",
   "metadata": {},
   "source": [
    "#### Produce a Classification Report, a cross-validated precision, recall and F1 score."
   ]
  },
  {
   "cell_type": "code",
   "execution_count": 59,
   "id": "a303f06e",
   "metadata": {},
   "outputs": [
    {
     "name": "stdout",
     "output_type": "stream",
     "text": [
      "              precision    recall  f1-score   support\n",
      "\n",
      "           0       0.68      0.95      0.79       403\n",
      "           1       0.77      0.28      0.41       253\n",
      "\n",
      "    accuracy                           0.69       656\n",
      "   macro avg       0.72      0.61      0.60       656\n",
      "weighted avg       0.71      0.69      0.64       656\n",
      "\n"
     ]
    }
   ],
   "source": [
    "print(classification_report(y_test, y_preds))"
   ]
  },
  {
   "cell_type": "markdown",
   "id": "b13c241c",
   "metadata": {},
   "source": [
    "**These are the values based on a single test split**\n",
    "It would be better to use cross-validation\n",
    "\n",
    "#### Calculate the evaluation metrics using cross-validation\n",
    "\n",
    "Calculate precision, recall and F1 score of the model using cross-validation with `cross_val_score` "
   ]
  },
  {
   "cell_type": "code",
   "execution_count": 49,
   "id": "32fef03a",
   "metadata": {},
   "outputs": [
    {
     "data": {
      "text/plain": [
       "{'max_depth': 14,\n",
       " 'min_samples_leaf': 1,\n",
       " 'min_samples_split': 16,\n",
       " 'n_estimators': 600}"
      ]
     },
     "execution_count": 49,
     "metadata": {},
     "output_type": "execute_result"
    }
   ],
   "source": [
    "# Check best hyperparamers\n",
    "gs_rf.best_params_"
   ]
  },
  {
   "cell_type": "code",
   "execution_count": 50,
   "id": "047c4e0c",
   "metadata": {},
   "outputs": [],
   "source": [
    "# Create the RandomForestClassifier using the best parameters\n",
    "classifier = RandomForestClassifier(max_depth=14,\n",
    "                                   min_samples_leaf=1,\n",
    "                                   min_samples_split = 16,\n",
    "                                   n_estimators = 600)"
   ]
  },
  {
   "cell_type": "code",
   "execution_count": 73,
   "id": "a4d846d6",
   "metadata": {},
   "outputs": [
    {
     "data": {
      "text/plain": [
       "RandomForestClassifier(max_depth=14, min_samples_split=16, n_estimators=600)"
      ]
     },
     "execution_count": 73,
     "metadata": {},
     "output_type": "execute_result"
    }
   ],
   "source": [
    "classifier.fit(X_train, y_train)"
   ]
  },
  {
   "cell_type": "code",
   "execution_count": 74,
   "id": "38d4863c",
   "metadata": {},
   "outputs": [
    {
     "data": {
      "text/plain": [
       "0.6859756097560976"
      ]
     },
     "execution_count": 74,
     "metadata": {},
     "output_type": "execute_result"
    }
   ],
   "source": [
    "classifier.score(X_test, y_test)"
   ]
  },
  {
   "cell_type": "code",
   "execution_count": 75,
   "id": "f9582fd4",
   "metadata": {},
   "outputs": [
    {
     "data": {
      "text/plain": [
       "(3276, 9)"
      ]
     },
     "execution_count": 75,
     "metadata": {},
     "output_type": "execute_result"
    }
   ],
   "source": [
    "X_full = np.concatenate((X_train, X_test), axis= 0)\n",
    "X_full.shape"
   ]
  },
  {
   "cell_type": "code",
   "execution_count": 76,
   "id": "9ebd7eec",
   "metadata": {},
   "outputs": [
    {
     "data": {
      "text/plain": [
       "(3276,)"
      ]
     },
     "execution_count": 76,
     "metadata": {},
     "output_type": "execute_result"
    }
   ],
   "source": [
    "y_full = np.concatenate((y_train, y_test), axis= 0)\n",
    "y_full.shape"
   ]
  },
  {
   "cell_type": "code",
   "execution_count": 77,
   "id": "ec8e8fd4",
   "metadata": {},
   "outputs": [
    {
     "data": {
      "text/plain": [
       "0.6733815862967789"
      ]
     },
     "execution_count": 77,
     "metadata": {},
     "output_type": "execute_result"
    }
   ],
   "source": [
    "# Cross-validated accuracy\n",
    "cv_acc = cross_val_score(classifier, X_full, y_full, cv=5, scoring=\"accuracy\")\n",
    "cv_acc = np.mean(cv_acc)\n",
    "cv_acc"
   ]
  },
  {
   "cell_type": "code",
   "execution_count": 67,
   "id": "36b933c5",
   "metadata": {},
   "outputs": [
    {
     "data": {
      "text/plain": [
       "0.6999941262343804"
      ]
     },
     "execution_count": 67,
     "metadata": {},
     "output_type": "execute_result"
    }
   ],
   "source": [
    "# Cross-validated precision\n",
    "cv_precision = cross_val_score(classifier, X_full, y_full, cv=5, scoring=\"precision\")\n",
    "cv_precision = np.mean(cv_precision)\n",
    "cv_precision"
   ]
  },
  {
   "cell_type": "code",
   "execution_count": 69,
   "id": "439e8fb8",
   "metadata": {},
   "outputs": [
    {
     "data": {
      "text/plain": [
       "0.2801164215686275"
      ]
     },
     "execution_count": 69,
     "metadata": {},
     "output_type": "execute_result"
    }
   ],
   "source": [
    "# Cross-validated recall\n",
    "cv_recall = cross_val_score(classifier, X_full, y_full, cv=5,  scoring=\"recall\")\n",
    "cv_recall = np.mean(cv_recall)\n",
    "cv_recall"
   ]
  },
  {
   "cell_type": "code",
   "execution_count": 70,
   "id": "e141d6cb",
   "metadata": {},
   "outputs": [
    {
     "data": {
      "text/plain": [
       "0.3866492182304511"
      ]
     },
     "execution_count": 70,
     "metadata": {},
     "output_type": "execute_result"
    }
   ],
   "source": [
    "# Cross-validated f1-score\n",
    "cv_f1 = cross_val_score(classifier, X_full, y_full, cv=5, scoring=\"f1\")\n",
    "cv_f1 = np.mean(cv_f1)\n",
    "cv_f1"
   ]
  },
  {
   "cell_type": "code",
   "execution_count": 88,
   "id": "4b928509",
   "metadata": {},
   "outputs": [
    {
     "data": {
      "text/html": [
       "<div>\n",
       "<style scoped>\n",
       "    .dataframe tbody tr th:only-of-type {\n",
       "        vertical-align: middle;\n",
       "    }\n",
       "\n",
       "    .dataframe tbody tr th {\n",
       "        vertical-align: top;\n",
       "    }\n",
       "\n",
       "    .dataframe thead th {\n",
       "        text-align: right;\n",
       "    }\n",
       "</style>\n",
       "<table border=\"1\" class=\"dataframe\">\n",
       "  <thead>\n",
       "    <tr style=\"text-align: right;\">\n",
       "      <th></th>\n",
       "      <th>Accuracy</th>\n",
       "      <th>Precision</th>\n",
       "      <th>Recall</th>\n",
       "      <th>F1</th>\n",
       "    </tr>\n",
       "  </thead>\n",
       "  <tbody>\n",
       "    <tr>\n",
       "      <th>0</th>\n",
       "      <td>0.673382</td>\n",
       "      <td>0.699994</td>\n",
       "      <td>0.280116</td>\n",
       "      <td>0.386649</td>\n",
       "    </tr>\n",
       "  </tbody>\n",
       "</table>\n",
       "</div>"
      ],
      "text/plain": [
       "   Accuracy  Precision    Recall        F1\n",
       "0  0.673382   0.699994  0.280116  0.386649"
      ]
     },
     "execution_count": 88,
     "metadata": {},
     "output_type": "execute_result"
    }
   ],
   "source": [
    "data = {'Accuracy': [cv_acc], 'Precision': [cv_precision], 'Recall': [cv_recall], 'F1': [cv_f1]}\n",
    "model_scores = pd.DataFrame(data = data, index=None)\n",
    "model_scores"
   ]
  },
  {
   "cell_type": "code",
   "execution_count": 72,
   "id": "f00fadf5",
   "metadata": {},
   "outputs": [
    {
     "data": {
      "image/png": "[encoded data removed]",
      "text/plain": [
       "<Figure size 432x288 with 1 Axes>"
      ]
     },
     "metadata": {
      "needs_background": "light"
     },
     "output_type": "display_data"
    }
   ],
   "source": [
    "# Visulize the cross-validated metrics\n",
    "cv_metrics = pd.DataFrame({\"Accuracy\": cv_acc,\n",
    "                         \"Precision\": cv_precision,\n",
    "                         \"Recall\": cv_recall,\n",
    "                         \"F1\": cv_f1},\n",
    "                         index=[0])\n",
    "\n",
    "cv_metrics.T.plot.bar(title = \"Cross-Validated Classification Metrics\",\n",
    "                     legend = False);"
   ]
  },
  {
   "cell_type": "markdown",
   "id": "fda4d95f",
   "metadata": {},
   "source": [
    "### Feature Importance\n",
    "\n",
    "\"Which features contributed most to the outcomes of the model and how did they contribute?\n",
    "\n",
    "Finding feature importance is different for each machine learning model."
   ]
  },
  {
   "cell_type": "code",
   "execution_count": 89,
   "id": "dee43842",
   "metadata": {},
   "outputs": [],
   "source": [
    "# Fit an instance of RandomForestClassifier\n",
    "classifier = RandomForestClassifier(max_depth=14,\n",
    "                                   min_samples_leaf=1,\n",
    "                                   min_samples_split = 16,\n",
    "                                   n_estimators = 600)\n",
    "\n",
    "classifier.fit(X_train, y_train);"
   ]
  },
  {
   "cell_type": "code",
   "execution_count": 91,
   "id": "55c322d2",
   "metadata": {},
   "outputs": [
    {
     "data": {
      "text/plain": [
       "array([0.1520518 , 0.12281896, 0.11293139, 0.11799184, 0.15936488,\n",
       "       0.08536975, 0.08252521, 0.08418771, 0.08275846])"
      ]
     },
     "execution_count": 91,
     "metadata": {},
     "output_type": "execute_result"
    }
   ],
   "source": [
    "classifier.feature_importances_"
   ]
  },
  {
   "cell_type": "code",
   "execution_count": 92,
   "id": "8396c83c",
   "metadata": {},
   "outputs": [],
   "source": [
    "# PLot the feature importances\n",
    "\n",
    "def plot_features(columns, importances, n=20):\n",
    "    df = (pd.DataFrame({\"features\": columns,\n",
    "                       \"feature_importances\": importances})\n",
    "         .sort_values(\"feature_importances\", ascending=False)\n",
    "         .reset_index(drop=True))\n",
    "    # Plot the dataframe\n",
    "    fig, ax = plt.subplots()\n",
    "    ax.barh(df[\"features\"][:n], df[\"feature_importances\"][:20])\n",
    "    ax.set_ylabel(\"Features\")\n",
    "    ax.set_xlabel(\"Feature Importance\")\n",
    "    ax.invert_yaxis()"
   ]
  },
  {
   "cell_type": "code",
   "execution_count": 93,
   "id": "de2fc804",
   "metadata": {},
   "outputs": [
    {
     "data": {
      "image/png": "[encoded data removed]",
      "text/plain": [
       "<Figure size 432x288 with 1 Axes>"
      ]
     },
     "metadata": {
      "needs_background": "light"
     },
     "output_type": "display_data"
    }
   ],
   "source": [
    "plot_features(X_train.columns, classifier.feature_importances_)"
   ]
  },
  {
   "cell_type": "markdown",
   "id": "7889902f",
   "metadata": {},
   "source": [
    "#### Sulfate\n",
    "\n",
    "Sulfate has the highest Feature Importance and is also the feature with the most missing values in the data set.  Approximately 24% of the total samples were missing a value for sulfate content and therfore were filled with the median value of the train and test datasets respectively.  \n",
    "This can be noted as an area of improvement in future sampling programs as more accurate sulfate data will undoubtedly improve the model's ability to make better predictions. "
   ]
  },
  {
   "cell_type": "markdown",
   "id": "231ba6ac",
   "metadata": {},
   "source": [
    "### Discussion\n",
    "\n",
    "As can be noted from the confusion matrix and the graph above, this model is weak on Recall.  This is to say that it predicts many false negatives.  In the context of this problem, many of the water samples that were in fact potable were predicted to be non-potable by the model.  On the other hand the model's precision score is relatively high due to low number of false positives given. False positives would be the samples the model predicted to be potable that were in fact non-potable.\n",
    "\n",
    "The target value imbalance in the dataset of 60%/40% non-potable to potable samples may have had an adverse impact on the models ability to improve.  Another potential area of improvement could be how the missing sulfate data is handled.  A simple replacement with the median may not be the best solution based on sulfate importance.\n",
    "\n",
    "**Next steps.**\n",
    "Work the problem with this dataset again, this time addressing the target value imbalance.  Research recommended ways of handling an imbalance such as this for a binary classification problem."
   ]
  },
  {
   "cell_type": "code",
   "execution_count": null,
   "id": "26813739",
   "metadata": {},
   "outputs": [],
   "source": []
  }
 ],
 "metadata": {
  "kernelspec": {
   "display_name": "Python 3",
   "language": "python",
   "name": "python3"
  },
  "language_info": {
   "codemirror_mode": {
    "name": "ipython",
    "version": 3
   },
   "file_extension": ".py",
   "mimetype": "text/x-python",
   "name": "python",
   "nbconvert_exporter": "python",
   "pygments_lexer": "ipython3",
   "version": "3.9.5"
  }
 },
 "nbformat": 4,
 "nbformat_minor": 5
}
